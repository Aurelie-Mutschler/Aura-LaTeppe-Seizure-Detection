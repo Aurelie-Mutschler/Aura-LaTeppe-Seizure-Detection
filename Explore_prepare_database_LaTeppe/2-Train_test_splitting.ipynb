{
 "cells": [
  {
   "cell_type": "code",
   "execution_count": 1,
   "metadata": {},
   "outputs": [],
   "source": [
    "import os\n",
    "import glob\n",
    "\n",
    "import pandas as pd\n",
    "import numpy as np\n",
    "\n",
    "import plotly.express as px\n",
    "import plotly.graph_objects as go\n",
    "from plotly.subplots import make_subplots\n",
    "import plotly.io as pio"
   ]
  },
  {
   "cell_type": "code",
   "execution_count": 2,
   "metadata": {},
   "outputs": [],
   "source": [
    "# Path to patient files\n",
    "files_path = \"res/patient_files/*.csv\"\n",
    "# Path to output files\n",
    "res_path = \"res/ML_ready/\"\n",
    "# Size of test set (in ratio)\n",
    "test_ratio = 0.20"
   ]
  },
  {
   "cell_type": "code",
   "execution_count": 3,
   "metadata": {},
   "outputs": [],
   "source": [
    "# Read files\n",
    "patient_files = glob.glob(files_path, recursive = True)\n",
    "patient_files\n",
    "\n",
    "for p in patient_files:\n",
    "    # Keep only files containing seizures\n",
    "    if 'NO_SEIZURE' in p:\n",
    "        continue\n",
    "    df = pd.read_csv(p)\n",
    "    # Train/test splitting : put last measurements into test set\n",
    "    test_size = int(df.shape[0]*test_ratio)\n",
    "    df = df.sort_values(by=['interval_start_time'])\n",
    "    df.loc[:df.shape[0] - test_size, 'set'] = 'train'\n",
    "    df.loc[df.shape[0] - test_size:, 'set'] = 'test'\n",
    "    # Save file\n",
    "    df.to_csv(res_path + p.split('/')[-1], index = False)"
   ]
  }
 ],
 "metadata": {
  "kernelspec": {
   "display_name": "Python 3",
   "language": "python",
   "name": "python3"
  },
  "language_info": {
   "codemirror_mode": {
    "name": "ipython",
    "version": 3
   },
   "file_extension": ".py",
   "mimetype": "text/x-python",
   "name": "python",
   "nbconvert_exporter": "python",
   "pygments_lexer": "ipython3",
   "version": "3.6.8"
  }
 },
 "nbformat": 4,
 "nbformat_minor": 4
}
